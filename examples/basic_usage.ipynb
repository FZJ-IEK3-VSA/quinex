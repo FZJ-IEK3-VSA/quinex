{
 "cells": [
  {
   "cell_type": "markdown",
   "id": "c6db805a",
   "metadata": {},
   "source": [
    "# Basic Usage\n",
    "\n",
    "Quinex indentifies quantities and their context from text. Here are some examples of how to use Quinex:"
   ]
  },
  {
   "cell_type": "markdown",
   "id": "3191ec36",
   "metadata": {},
   "source": [
    "As an example, we extract the quantitative information from an excerpt of a Wikipedia article about the [Gemini offshore wind farm](https://en.wikipedia.org/wiki/Gemini_Wind_Farm)."
   ]
  },
  {
   "cell_type": "code",
   "execution_count": 1,
   "id": "87ffd1fd",
   "metadata": {},
   "outputs": [],
   "source": [
    "text = ('Gemini is a 600 megawatt (MW) offshore wind farm off the coast of the '\n",
    " 'Netherlands. Construction started in 2015 with final commissioning in '\n",
    " '2017.[1][2] [...] The total construction cost of the Gemini project is '\n",
    " 'estimated at around 2.8 billion euros,[9] and subsidies will be 3.6 billion '\n",
    " 'euros.[4] Gemini has licences to operate the wind farm for 20 years.')\n"
   ]
  },
  {
   "cell_type": "markdown",
   "id": "0256a30d",
   "metadata": {},
   "source": [
    "Note that we run the examples on CPU. Using GPUs is significantly faster."
   ]
  },
  {
   "cell_type": "markdown",
   "id": "e8caa378",
   "metadata": {},
   "source": [
    "## Identify all quantities"
   ]
  },
  {
   "cell_type": "code",
   "execution_count": 3,
   "id": "d0b2755c",
   "metadata": {},
   "outputs": [
    {
     "name": "stdout",
     "output_type": "stream",
     "text": [
      "\n",
      "2025-10-21 10:08:03\t\u001b[38;5;4mInitializing quinex...\u001b[0m\n"
     ]
    },
    {
     "name": "stderr",
     "output_type": "stream",
     "text": [
      "Device set to use cpu\n",
      "Device set to use cpu\n"
     ]
    },
    {
     "name": "stdout",
     "output_type": "stream",
     "text": [
      "\n",
      "             .-----------------------.\n",
      "            |   ___________________   |\n",
      "            |  |   ,,,       ,,,   |  |\n",
      "            |  |  ( ● )     ( ● )  |  |\n",
      "            |  |   ```       ```   |  |\n",
      "            |  |     `--___--´     |  |\n",
      "            |  |___________________|  |\n",
      "            |                         |\n",
      "            | .---. .---. .---. .---. |\n",
      "            | | 7 | | 8 | | 9 | | ÷ | |\n",
      "            | '---' '---' '---' '---' |\n",
      "            | .---. .---. .---. .---. |\n",
      "            | | 4 | | 5 | | 6 | | x | |\n",
      "            | '---' '---' '---' '---' |\n",
      "            | .---. .---. .---. .---. |\n",
      "            | | 1 | | 2 | | 3 | | - | |\n",
      "            | '---' '---' '---' '---' |\n",
      "            | .---. .---. .---. .---. |\n",
      "            | | = | | 0 | | . | | + | |\n",
      "            | '---' '---' '---' '---' |\n",
      "             '-----------------------'                \n",
      "                Q U I N E X v0.0.0\n",
      "        \n",
      "2025-10-21 10:08:08\t\u001b[38;5;2m✔ Pipeline initialized in 5.13 s.\u001b[0m\n",
      "2025-10-21 10:08:08\t\u001b[38;5;8mNote that using CPUs instead of GPUs (use_cpu=False) is significantly\n",
      "slower.\u001b[0m\n",
      "\n",
      "2025-10-21 10:08:09\t\u001b[38;5;4m📄 Applying pipeline to given text...\u001b[0m\n",
      "2025-10-21 10:08:09\t\u001b[38;5;2m✔ Identified 4 quantities in 0.226 s.\u001b[0m\n",
      "\n",
      "Identified quantities:\n",
      "- 600 megawatt (MW)\n",
      "- 2.8 billion euros\n",
      "- 3.6 billion euros\n",
      "- 20 years\n"
     ]
    }
   ],
   "source": [
    "from quinex import Quinex\n",
    "\n",
    "quinex = Quinex()\n",
    "quantities = quinex.get_quantities(text)\n",
    "\n",
    "# Or alternatively:\n",
    "# quinex = Quinex(\n",
    "#     enable_quantity_extraction=True,\n",
    "#     enable_context_extraction=False,\n",
    "#     enable_qualifier_extraction=False,\n",
    "#     enable_statement_classification=False,\n",
    "# )\n",
    "# quantities = quinex(text)\n",
    "\n",
    "# Or alternatively:\n",
    "# form quinex.config.presets import models, tasks\n",
    "# quinex = Quinex(**tasks.quantity_only)\n",
    "# quantities = quinex(text)\n",
    "\n",
    "print(\"\\nIdentified quantities:\")\n",
    "for q in quantities:\n",
    "    print(\"- \" + q['text'])\n"
   ]
  },
  {
   "cell_type": "markdown",
   "id": "f19a2b37",
   "metadata": {},
   "source": [
    "Quantities are normalized into individual quantities (e.g., for lists and ranges) and their numeric values, units, and so forth.\n",
    "The units are linked to the QUDT unit ontology."
   ]
  },
  {
   "cell_type": "code",
   "execution_count": 4,
   "id": "8ed25fff",
   "metadata": {},
   "outputs": [
    {
     "data": {
      "text/plain": [
       "{'start': 346,\n",
       " 'end': 354,\n",
       " 'text': '20 years',\n",
       " 'normalized': {'type': 'single_quantity',\n",
       "  'is_relative': False,\n",
       "  'individual_quantities': {'normalized': [{'value': {'text': '20',\n",
       "      'normalized': {'numeric_value': 20,\n",
       "       'is_imprecise': False,\n",
       "       'modifiers': '=',\n",
       "       'is_mean': None,\n",
       "       'is_median': None}},\n",
       "     'unit': {'text': {'ellipsed': '', 'prefixed': '', 'suffixed': 'years'},\n",
       "      'normalized': [{'text': 'years',\n",
       "        'exponent': 1,\n",
       "        'uri': 'http://qudt.org/vocab/unit/YR',\n",
       "        'year': None}]}}]}},\n",
       " 'is_implicit': False}"
      ]
     },
     "execution_count": 4,
     "metadata": {},
     "output_type": "execute_result"
    }
   ],
   "source": [
    "quantities[-1]"
   ]
  },
  {
   "cell_type": "markdown",
   "id": "a0ff2ec6",
   "metadata": {},
   "source": [
    "By default, quinex extracts all quantities, including imprecise ones (e.g., \"several turbines\")."
   ]
  },
  {
   "cell_type": "code",
   "execution_count": 5,
   "id": "7f67b012",
   "metadata": {},
   "outputs": [
    {
     "name": "stdout",
     "output_type": "stream",
     "text": [
      "\n",
      "2025-10-21 10:08:15\t\u001b[38;5;4m📄 Applying pipeline to given text...\u001b[0m\n",
      "2025-10-21 10:08:15\t\u001b[38;5;2m✔ Identified 3 quantities in 0.14 s.\u001b[0m\n",
      "\n",
      "Identified quantities:\n",
      "- several quantities\n",
      "- 5.1 kg\n",
      "- a few apples\n"
     ]
    }
   ],
   "source": [
    "text_with_imprecise_quantities = \"This example includes several quantities. Some are precise, such as 5.1 kg, while others are not, such as a few apples.\"\n",
    "quantities = quinex.get_quantities(text_with_imprecise_quantities)\n",
    "print(\"\\nIdentified quantities:\")\n",
    "for q in quantities:\n",
    "    print(\"- \" + q['text'])"
   ]
  },
  {
   "cell_type": "markdown",
   "id": "489c8daa",
   "metadata": {},
   "source": [
    "You can ignore them by setting `skip_imprecise_quantities=True`:"
   ]
  },
  {
   "cell_type": "code",
   "execution_count": 6,
   "id": "444b9787",
   "metadata": {},
   "outputs": [
    {
     "name": "stdout",
     "output_type": "stream",
     "text": [
      "\n",
      "2025-10-21 10:08:19\t\u001b[38;5;4m📄 Applying pipeline to given text...\u001b[0m\n",
      "2025-10-21 10:08:19\t\u001b[38;5;8mIgnoring the following imprecise quantitities (set\n",
      "skip_imprecise_quantities=False to disable): ['several quantities', 'a few\n",
      "apples']\u001b[0m\n",
      "2025-10-21 10:08:19\t\u001b[38;5;2m✔ Identified 1 quantities in 0.153 s.\u001b[0m\n",
      "\n",
      "Identified quantities:\n",
      "- 5.1 kg\n"
     ]
    }
   ],
   "source": [
    "quantities = quinex.get_quantities(text_with_imprecise_quantities, skip_imprecise_quantities=True)\n",
    "print(\"\\nIdentified quantities:\")\n",
    "for q in quantities:\n",
    "    print(\"- \" + q['text'])"
   ]
  },
  {
   "cell_type": "markdown",
   "id": "b65b4eba",
   "metadata": {},
   "source": [
    "You can get the measured entity, property, and qualifiers for a quantity like this:"
   ]
  },
  {
   "cell_type": "code",
   "execution_count": 8,
   "id": "ac884640",
   "metadata": {},
   "outputs": [
    {
     "name": "stdout",
     "output_type": "stream",
     "text": [
      "\n",
      "2025-10-21 10:14:10\t\u001b[38;5;4m📄 Applying pipeline to given text...\u001b[0m\n",
      "- Entity: Gemini\n",
      "- Property: mass\n",
      "- Quantity: 5.1 kg\n",
      "- Location: off the coast of the Nethers\n"
     ]
    }
   ],
   "source": [
    "qclaim = quinex.get_claim_for_given_quantity(text, quantities[-1])\n",
    "print(\"- Entity: \" + qclaim[\"claim\"][\"entity\"][\"text\"])\n",
    "print(\"- Property: \" + qclaim[\"claim\"][\"property\"][\"text\"])\n",
    "print(\"- Quantity: \" + qclaim[\"claim\"][\"quantity\"][\"text\"])\n",
    "print(\"- Location: \" + qclaim[\"qualifiers\"][\"spatial_scope\"][\"text\"])"
   ]
  },
  {
   "cell_type": "markdown",
   "id": "2d3b1788",
   "metadata": {},
   "source": [
    "## Direclty extract quantities with their context"
   ]
  },
  {
   "cell_type": "markdown",
   "id": "f4a6ca6f",
   "metadata": {},
   "source": [
    "For each quantity, Quinex can extract the context, i.e., the measured entity, property and related information such as the spatio-temporal scope, references, and more."
   ]
  },
  {
   "cell_type": "code",
   "execution_count": 9,
   "id": "6dc6ad09",
   "metadata": {},
   "outputs": [
    {
     "name": "stdout",
     "output_type": "stream",
     "text": [
      "\n",
      "2025-10-21 10:14:52\t\u001b[38;5;4mInitializing quinex...\u001b[0m\n"
     ]
    },
    {
     "name": "stderr",
     "output_type": "stream",
     "text": [
      "Device set to use cpu\n",
      "Device set to use cpu\n"
     ]
    },
    {
     "name": "stdout",
     "output_type": "stream",
     "text": [
      "\n",
      "             .-----------------------.\n",
      "            |   ___________________   |\n",
      "            |  |   ,,,       ,,,   |  |\n",
      "            |  |  ( ● )     ( ● )  |  |\n",
      "            |  |   ```       ```   |  |\n",
      "            |  |     `--___--´     |  |\n",
      "            |  |___________________|  |\n",
      "            |                         |\n",
      "            | .---. .---. .---. .---. |\n",
      "            | | 7 | | 8 | | 9 | | ÷ | |\n",
      "            | '---' '---' '---' '---' |\n",
      "            | .---. .---. .---. .---. |\n",
      "            | | 4 | | 5 | | 6 | | x | |\n",
      "            | '---' '---' '---' '---' |\n",
      "            | .---. .---. .---. .---. |\n",
      "            | | 1 | | 2 | | 3 | | - | |\n",
      "            | '---' '---' '---' '---' |\n",
      "            | .---. .---. .---. .---. |\n",
      "            | | = | | 0 | | . | | + | |\n",
      "            | '---' '---' '---' '---' |\n",
      "             '-----------------------'                \n",
      "                Q U I N E X v0.0.0\n",
      "        \n",
      "2025-10-21 10:14:58\t\u001b[38;5;2m✔ Pipeline initialized in 5.347 s.\u001b[0m\n",
      "2025-10-21 10:14:58\t\u001b[38;5;8mNote that using CPUs instead of GPUs (use_cpu=False) is significantly\n",
      "slower.\u001b[0m\n",
      "\n",
      "2025-10-21 10:14:58\t\u001b[38;5;4m📄 Applying pipeline to given text...\u001b[0m\n",
      "2025-10-21 10:14:58\t\u001b[38;5;8mPre-processing done in 0.015 s.\u001b[0m\n",
      "2025-10-21 10:14:58\t\u001b[38;5;8mIdentified 4 quantities in 0.156 s.\u001b[0m\n",
      "2025-10-21 10:17:00\t\u001b[38;5;8mContext analyzed in 121.582 s.\u001b[0m\n",
      "2025-10-21 10:17:00\t\u001b[38;5;2m✔ Done! Found 4 quantitative statements in 121.7 s.\u001b[0m\n"
     ]
    }
   ],
   "source": [
    "quinex = Quinex()\n",
    "qclaims = quinex(text)"
   ]
  },
  {
   "cell_type": "markdown",
   "id": "e47ff2b0",
   "metadata": {},
   "source": [
    "Let's display the extracted information as a dataframe:"
   ]
  },
  {
   "cell_type": "code",
   "execution_count": 10,
   "id": "2b0aadf1",
   "metadata": {},
   "outputs": [
    {
     "data": {
      "text/html": [
       "<div>\n",
       "<style scoped>\n",
       "    .dataframe tbody tr th:only-of-type {\n",
       "        vertical-align: middle;\n",
       "    }\n",
       "\n",
       "    .dataframe tbody tr th {\n",
       "        vertical-align: top;\n",
       "    }\n",
       "\n",
       "    .dataframe thead th {\n",
       "        text-align: right;\n",
       "    }\n",
       "</style>\n",
       "<table border=\"1\" class=\"dataframe\">\n",
       "  <thead>\n",
       "    <tr style=\"text-align: right;\">\n",
       "      <th></th>\n",
       "      <th>entity</th>\n",
       "      <th>property</th>\n",
       "      <th>quantity</th>\n",
       "      <th>normalized_quantity</th>\n",
       "      <th>temporal_scope</th>\n",
       "      <th>spatial_scope</th>\n",
       "      <th>reference</th>\n",
       "      <th>method</th>\n",
       "      <th>other_qualifiers</th>\n",
       "    </tr>\n",
       "  </thead>\n",
       "  <tbody>\n",
       "    <tr>\n",
       "      <th>0</th>\n",
       "      <td>Gemini</td>\n",
       "      <td>installed capacity</td>\n",
       "      <td>600 megawatt (MW)</td>\n",
       "      <td>{'type': 'single_quantity', 'is_relative': Fal...</td>\n",
       "      <td>Construction started in 2015 with final commis...</td>\n",
       "      <td>off the coast of the Netherlands</td>\n",
       "      <td>[1][2]</td>\n",
       "      <td>None</td>\n",
       "      <td>None</td>\n",
       "    </tr>\n",
       "    <tr>\n",
       "      <th>1</th>\n",
       "      <td>Gemini project</td>\n",
       "      <td>total construction cost</td>\n",
       "      <td>2.8 billion euros</td>\n",
       "      <td>{'type': 'single_quantity', 'is_relative': Fal...</td>\n",
       "      <td>Construction started in 2015 with final commis...</td>\n",
       "      <td>off the coast of the Netherlands</td>\n",
       "      <td>[9]</td>\n",
       "      <td>estimated</td>\n",
       "      <td>600 megawatt (MW) offshore wind farm</td>\n",
       "    </tr>\n",
       "    <tr>\n",
       "      <th>2</th>\n",
       "      <td>Gemini project</td>\n",
       "      <td>subsidies</td>\n",
       "      <td>3.6 billion euros</td>\n",
       "      <td>{'type': 'single_quantity', 'is_relative': Fal...</td>\n",
       "      <td>Construction started in 2015 with final commis...</td>\n",
       "      <td>off the coast of the Netherlands</td>\n",
       "      <td>[4]</td>\n",
       "      <td>None</td>\n",
       "      <td>None</td>\n",
       "    </tr>\n",
       "    <tr>\n",
       "      <th>3</th>\n",
       "      <td>Gemini</td>\n",
       "      <td>licences to operate the wind farm</td>\n",
       "      <td>20 years</td>\n",
       "      <td>{'type': 'single_quantity', 'is_relative': Fal...</td>\n",
       "      <td>Construction started in 2015 with final commis...</td>\n",
       "      <td>off the coast of the Netherlands</td>\n",
       "      <td>[1][2]</td>\n",
       "      <td>None</td>\n",
       "      <td>None</td>\n",
       "    </tr>\n",
       "  </tbody>\n",
       "</table>\n",
       "</div>"
      ],
      "text/plain": [
       "           entity                           property           quantity  \\\n",
       "0          Gemini                 installed capacity  600 megawatt (MW)   \n",
       "1  Gemini project            total construction cost  2.8 billion euros   \n",
       "2  Gemini project                          subsidies  3.6 billion euros   \n",
       "3          Gemini  licences to operate the wind farm           20 years   \n",
       "\n",
       "                                 normalized_quantity  \\\n",
       "0  {'type': 'single_quantity', 'is_relative': Fal...   \n",
       "1  {'type': 'single_quantity', 'is_relative': Fal...   \n",
       "2  {'type': 'single_quantity', 'is_relative': Fal...   \n",
       "3  {'type': 'single_quantity', 'is_relative': Fal...   \n",
       "\n",
       "                                      temporal_scope  \\\n",
       "0  Construction started in 2015 with final commis...   \n",
       "1  Construction started in 2015 with final commis...   \n",
       "2  Construction started in 2015 with final commis...   \n",
       "3  Construction started in 2015 with final commis...   \n",
       "\n",
       "                      spatial_scope reference     method  \\\n",
       "0  off the coast of the Netherlands    [1][2]       None   \n",
       "1  off the coast of the Netherlands       [9]  estimated   \n",
       "2  off the coast of the Netherlands       [4]       None   \n",
       "3  off the coast of the Netherlands    [1][2]       None   \n",
       "\n",
       "                       other_qualifiers  \n",
       "0                                  None  \n",
       "1  600 megawatt (MW) offshore wind farm  \n",
       "2                                  None  \n",
       "3                                  None  "
      ]
     },
     "execution_count": 10,
     "metadata": {},
     "output_type": "execute_result"
    }
   ],
   "source": [
    "quinex.qclaims_to_df(qclaims)"
   ]
  },
  {
   "cell_type": "markdown",
   "id": "28fcfed1",
   "metadata": {},
   "source": [
    "You can configure Quinex() using its arguments (e.g. `use_cpu=False`, `enable_context_extraction=False`) or by using preset configurations for models and tasks."
   ]
  },
  {
   "cell_type": "code",
   "execution_count": 11,
   "id": "b9119f8e",
   "metadata": {},
   "outputs": [
    {
     "name": "stdout",
     "output_type": "stream",
     "text": [
      "\n",
      "2025-10-21 10:19:57\t\u001b[38;5;4mInitializing quinex...\u001b[0m\n"
     ]
    },
    {
     "name": "stderr",
     "output_type": "stream",
     "text": [
      "Device set to use cpu\n",
      "Device set to use cpu\n",
      "Device set to use cpu\n"
     ]
    },
    {
     "name": "stdout",
     "output_type": "stream",
     "text": [
      "\n",
      "             .-----------------------.\n",
      "            |   ___________________   |\n",
      "            |  |   ,,,       ,,,   |  |\n",
      "            |  |  ( ● )     ( ● )  |  |\n",
      "            |  |   ```       ```   |  |\n",
      "            |  |     `--___--´     |  |\n",
      "            |  |___________________|  |\n",
      "            |                         |\n",
      "            | .---. .---. .---. .---. |\n",
      "            | | 7 | | 8 | | 9 | | ÷ | |\n",
      "            | '---' '---' '---' '---' |\n",
      "            | .---. .---. .---. .---. |\n",
      "            | | 4 | | 5 | | 6 | | x | |\n",
      "            | '---' '---' '---' '---' |\n",
      "            | .---. .---. .---. .---. |\n",
      "            | | 1 | | 2 | | 3 | | - | |\n",
      "            | '---' '---' '---' '---' |\n",
      "            | .---. .---. .---. .---. |\n",
      "            | | = | | 0 | | . | | + | |\n",
      "            | '---' '---' '---' '---' |\n",
      "             '-----------------------'                \n",
      "                Q U I N E X v0.0.0\n",
      "        \n",
      "2025-10-21 10:20:03\t\u001b[38;5;2m✔ Pipeline initialized in 6.196 s.\u001b[0m\n",
      "2025-10-21 10:20:03\t\u001b[38;5;8mNote that using CPUs instead of GPUs (use_cpu=False) is significantly\n",
      "slower.\u001b[0m\n",
      "\n",
      "2025-10-21 10:20:03\t\u001b[38;5;4m📄 Applying pipeline to given text...\u001b[0m\n",
      "2025-10-21 10:20:03\t\u001b[38;5;8mPre-processing done in 0.006 s.\u001b[0m\n",
      "2025-10-21 10:20:03\t\u001b[38;5;8mIdentified 1 quantities in 0.08 s.\u001b[0m\n",
      "2025-10-21 10:20:04\t\u001b[38;5;8mContext analyzed in 1.05 s.\u001b[0m\n",
      "2025-10-21 10:20:04\t\u001b[38;5;2m✔ Done! Found 1 quantitative statements in 1.1 s.\u001b[0m\n"
     ]
    },
    {
     "data": {
      "text/html": [
       "<div>\n",
       "<style scoped>\n",
       "    .dataframe tbody tr th:only-of-type {\n",
       "        vertical-align: middle;\n",
       "    }\n",
       "\n",
       "    .dataframe tbody tr th {\n",
       "        vertical-align: top;\n",
       "    }\n",
       "\n",
       "    .dataframe thead th {\n",
       "        text-align: right;\n",
       "    }\n",
       "</style>\n",
       "<table border=\"1\" class=\"dataframe\">\n",
       "  <thead>\n",
       "    <tr style=\"text-align: right;\">\n",
       "      <th></th>\n",
       "      <th>entity</th>\n",
       "      <th>property</th>\n",
       "      <th>quantity</th>\n",
       "      <th>normalized_quantity</th>\n",
       "      <th>temporal_scope</th>\n",
       "      <th>spatial_scope</th>\n",
       "      <th>reference</th>\n",
       "      <th>method</th>\n",
       "      <th>other_qualifiers</th>\n",
       "    </tr>\n",
       "  </thead>\n",
       "  <tbody>\n",
       "    <tr>\n",
       "      <th>0</th>\n",
       "      <td>quick brown fox</td>\n",
       "      <td>eigenfrequency</td>\n",
       "      <td>5 Hz</td>\n",
       "      <td>{'type': 'single_quantity', 'is_relative': Fal...</td>\n",
       "      <td>None</td>\n",
       "      <td>None</td>\n",
       "      <td>None</td>\n",
       "      <td>None</td>\n",
       "      <td>None</td>\n",
       "    </tr>\n",
       "  </tbody>\n",
       "</table>\n",
       "</div>"
      ],
      "text/plain": [
       "            entity        property quantity  \\\n",
       "0  quick brown fox  eigenfrequency     5 Hz   \n",
       "\n",
       "                                 normalized_quantity temporal_scope  \\\n",
       "0  {'type': 'single_quantity', 'is_relative': Fal...           None   \n",
       "\n",
       "  spatial_scope reference method other_qualifiers  \n",
       "0          None      None   None             None  "
      ]
     },
     "execution_count": 11,
     "metadata": {},
     "output_type": "execute_result"
    }
   ],
   "source": [
    "from quinex.config.presets import models, tasks\n",
    "\n",
    "quinex = Quinex(**models.tiny, **tasks.full)\n",
    "qclaims = quinex(\"The quick brown fox has an eigenfrequency of 5 Hz.\")\n",
    "quinex.qclaims_to_df(qclaims)"
   ]
  }
 ],
 "metadata": {
  "kernelspec": {
   "display_name": "refactoring_quinex_env_5",
   "language": "python",
   "name": "python3"
  },
  "language_info": {
   "codemirror_mode": {
    "name": "ipython",
    "version": 3
   },
   "file_extension": ".py",
   "mimetype": "text/x-python",
   "name": "python",
   "nbconvert_exporter": "python",
   "pygments_lexer": "ipython3",
   "version": "3.9.0"
  }
 },
 "nbformat": 4,
 "nbformat_minor": 5
}
